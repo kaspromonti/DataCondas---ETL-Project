{
 "cells": [
  {
   "cell_type": "code",
   "execution_count": null,
   "metadata": {},
   "outputs": [],
   "source": [
    "import pymongo\n"
   ]
  },
  {
   "cell_type": "code",
   "execution_count": null,
   "metadata": {},
   "outputs": [],
   "source": [
    "conn = 'mongodb://localhost:27017'\n",
    "client = pymongo.MongoClient(conn)\n",
    "\n",
    "# Mongo DB name = DataCondasWineDB, Mongo Collection name = collection\n",
    "\n",
    "# Define the 'DataCondasWineDB' database in Mongo\n",
    "db = client.DataCondasWineDB\n",
    "\n",
    "# Declare the collection\n",
    "collection = db.DataCondasWineDB"
   ]
  },
  {
   "cell_type": "code",
   "execution_count": null,
   "metadata": {},
   "outputs": [],
   "source": [
    "# Convert df to dictionary to insert into Mongo\n",
    "\n"
   ]
  },
  {
   "cell_type": "code",
   "execution_count": null,
   "metadata": {},
   "outputs": [],
   "source": [
    "# Part I\n",
    "# A dictionary that represents the document to be inserted\n",
    "post = {\n",
    "    'vendor': 'fruit star',\n",
    "    'fruit': 'raspberry',\n",
    "    'quantity': 21,\n",
    "    'ripeness': 2,\n",
    "    'date': datetime.datetime.utcnow()\n",
    "}\n",
    "# Insert the document into the database\n",
    "# The database and collection, if they don't already exist, will be created at this point.\n",
    "collection.insert_one(post)"
   ]
  }
 ],
 "metadata": {
  "kernelspec": {
   "display_name": "Python [conda env:PythonData] *",
   "language": "python",
   "name": "conda-env-PythonData-py"
  },
  "language_info": {
   "codemirror_mode": {
    "name": "ipython",
    "version": 3
   },
   "file_extension": ".py",
   "mimetype": "text/x-python",
   "name": "python",
   "nbconvert_exporter": "python",
   "pygments_lexer": "ipython3",
   "version": "3.6.10"
  }
 },
 "nbformat": 4,
 "nbformat_minor": 4
}
